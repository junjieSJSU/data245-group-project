{
 "cells": [
  {
   "cell_type": "code",
   "execution_count": 1,
   "id": "f1d2a541",
   "metadata": {},
   "outputs": [],
   "source": [
    "from ctgan import CTGAN\n",
    "import pandas as pd"
   ]
  },
  {
   "cell_type": "code",
   "execution_count": null,
   "id": "a6238841",
   "metadata": {},
   "outputs": [
    {
     "ename": "KeyboardInterrupt",
     "evalue": "",
     "output_type": "error",
     "traceback": [
      "\u001b[0;31m---------------------------------------------------------------------------\u001b[0m",
      "\u001b[0;31mKeyboardInterrupt\u001b[0m                         Traceback (most recent call last)",
      "Input \u001b[0;32mIn [30]\u001b[0m, in \u001b[0;36m<cell line: 8>\u001b[0;34m()\u001b[0m\n\u001b[1;32m      6\u001b[0m \u001b[38;5;66;03m# Train CTGAN\u001b[39;00m\n\u001b[1;32m      7\u001b[0m model \u001b[38;5;241m=\u001b[39m CTGAN(epochs\u001b[38;5;241m=\u001b[39m\u001b[38;5;241m300\u001b[39m)\n\u001b[0;32m----> 8\u001b[0m \u001b[43mmodel\u001b[49m\u001b[38;5;241;43m.\u001b[39;49m\u001b[43mfit\u001b[49m\u001b[43m(\u001b[49m\u001b[43mdata\u001b[49m\u001b[43m)\u001b[49m\n\u001b[1;32m     10\u001b[0m \u001b[38;5;66;03m# Generate synthetic data\u001b[39;00m\n\u001b[1;32m     11\u001b[0m generated_data \u001b[38;5;241m=\u001b[39m model\u001b[38;5;241m.\u001b[39msample(\u001b[38;5;241m2000\u001b[39m)\n",
      "File \u001b[0;32m~/anaconda3/envs/testenv/lib/python3.10/site-packages/ctgan/synthesizers/base.py:50\u001b[0m, in \u001b[0;36mrandom_state.<locals>.wrapper\u001b[0;34m(self, *args, **kwargs)\u001b[0m\n\u001b[1;32m     48\u001b[0m \u001b[38;5;28;01mdef\u001b[39;00m \u001b[38;5;21mwrapper\u001b[39m(\u001b[38;5;28mself\u001b[39m, \u001b[38;5;241m*\u001b[39margs, \u001b[38;5;241m*\u001b[39m\u001b[38;5;241m*\u001b[39mkwargs):\n\u001b[1;32m     49\u001b[0m     \u001b[38;5;28;01mif\u001b[39;00m \u001b[38;5;28mself\u001b[39m\u001b[38;5;241m.\u001b[39mrandom_states \u001b[38;5;129;01mis\u001b[39;00m \u001b[38;5;28;01mNone\u001b[39;00m:\n\u001b[0;32m---> 50\u001b[0m         \u001b[38;5;28;01mreturn\u001b[39;00m \u001b[43mfunction\u001b[49m\u001b[43m(\u001b[49m\u001b[38;5;28;43mself\u001b[39;49m\u001b[43m,\u001b[49m\u001b[43m \u001b[49m\u001b[38;5;241;43m*\u001b[39;49m\u001b[43margs\u001b[49m\u001b[43m,\u001b[49m\u001b[43m \u001b[49m\u001b[38;5;241;43m*\u001b[39;49m\u001b[38;5;241;43m*\u001b[39;49m\u001b[43mkwargs\u001b[49m\u001b[43m)\u001b[49m\n\u001b[1;32m     52\u001b[0m     \u001b[38;5;28;01melse\u001b[39;00m:\n\u001b[1;32m     53\u001b[0m         \u001b[38;5;28;01mwith\u001b[39;00m set_random_states(\u001b[38;5;28mself\u001b[39m\u001b[38;5;241m.\u001b[39mrandom_states, \u001b[38;5;28mself\u001b[39m\u001b[38;5;241m.\u001b[39mset_random_state):\n",
      "File \u001b[0;32m~/anaconda3/envs/testenv/lib/python3.10/site-packages/ctgan/synthesizers/ctgan.py:450\u001b[0m, in \u001b[0;36mCTGAN.fit\u001b[0;34m(self, train_data, discrete_columns, epochs)\u001b[0m\n\u001b[1;32m    447\u001b[0m     fakez \u001b[38;5;241m=\u001b[39m torch\u001b[38;5;241m.\u001b[39mcat([fakez, c1], dim\u001b[38;5;241m=\u001b[39m\u001b[38;5;241m1\u001b[39m)\n\u001b[1;32m    449\u001b[0m fake \u001b[38;5;241m=\u001b[39m \u001b[38;5;28mself\u001b[39m\u001b[38;5;241m.\u001b[39m_generator(fakez)\n\u001b[0;32m--> 450\u001b[0m fakeact \u001b[38;5;241m=\u001b[39m \u001b[38;5;28;43mself\u001b[39;49m\u001b[38;5;241;43m.\u001b[39;49m\u001b[43m_apply_activate\u001b[49m\u001b[43m(\u001b[49m\u001b[43mfake\u001b[49m\u001b[43m)\u001b[49m\n\u001b[1;32m    452\u001b[0m \u001b[38;5;28;01mif\u001b[39;00m c1 \u001b[38;5;129;01mis\u001b[39;00m \u001b[38;5;129;01mnot\u001b[39;00m \u001b[38;5;28;01mNone\u001b[39;00m:\n\u001b[1;32m    453\u001b[0m     y_fake \u001b[38;5;241m=\u001b[39m discriminator(torch\u001b[38;5;241m.\u001b[39mcat([fakeact, c1], dim\u001b[38;5;241m=\u001b[39m\u001b[38;5;241m1\u001b[39m))\n",
      "File \u001b[0;32m~/anaconda3/envs/testenv/lib/python3.10/site-packages/ctgan/synthesizers/ctgan.py:236\u001b[0m, in \u001b[0;36mCTGAN._apply_activate\u001b[0;34m(self, data)\u001b[0m\n\u001b[1;32m    234\u001b[0m \u001b[38;5;28;01melif\u001b[39;00m span_info\u001b[38;5;241m.\u001b[39mactivation_fn \u001b[38;5;241m==\u001b[39m \u001b[38;5;124m'\u001b[39m\u001b[38;5;124msoftmax\u001b[39m\u001b[38;5;124m'\u001b[39m:\n\u001b[1;32m    235\u001b[0m     ed \u001b[38;5;241m=\u001b[39m st \u001b[38;5;241m+\u001b[39m span_info\u001b[38;5;241m.\u001b[39mdim\n\u001b[0;32m--> 236\u001b[0m     transformed \u001b[38;5;241m=\u001b[39m \u001b[38;5;28;43mself\u001b[39;49m\u001b[38;5;241;43m.\u001b[39;49m\u001b[43m_gumbel_softmax\u001b[49m\u001b[43m(\u001b[49m\u001b[43mdata\u001b[49m\u001b[43m[\u001b[49m\u001b[43m:\u001b[49m\u001b[43m,\u001b[49m\u001b[43m \u001b[49m\u001b[43mst\u001b[49m\u001b[43m:\u001b[49m\u001b[43med\u001b[49m\u001b[43m]\u001b[49m\u001b[43m,\u001b[49m\u001b[43m \u001b[49m\u001b[43mtau\u001b[49m\u001b[38;5;241;43m=\u001b[39;49m\u001b[38;5;241;43m0.2\u001b[39;49m\u001b[43m)\u001b[49m\n\u001b[1;32m    237\u001b[0m     data_t\u001b[38;5;241m.\u001b[39mappend(transformed)\n\u001b[1;32m    238\u001b[0m     st \u001b[38;5;241m=\u001b[39m ed\n",
      "File \u001b[0;32m~/anaconda3/envs/testenv/lib/python3.10/site-packages/ctgan/synthesizers/ctgan.py:218\u001b[0m, in \u001b[0;36mCTGAN._gumbel_softmax\u001b[0;34m(logits, tau, hard, eps, dim)\u001b[0m\n\u001b[1;32m    198\u001b[0m \u001b[38;5;124;03m\"\"\"Deals with the instability of the gumbel_softmax for older versions of torch.\u001b[39;00m\n\u001b[1;32m    199\u001b[0m \n\u001b[1;32m    200\u001b[0m \u001b[38;5;124;03mFor more details about the issue:\u001b[39;00m\n\u001b[0;32m   (...)\u001b[0m\n\u001b[1;32m    215\u001b[0m \u001b[38;5;124;03m    Sampled tensor of same shape as logits from the Gumbel-Softmax distribution.\u001b[39;00m\n\u001b[1;32m    216\u001b[0m \u001b[38;5;124;03m\"\"\"\u001b[39;00m\n\u001b[1;32m    217\u001b[0m \u001b[38;5;28;01mfor\u001b[39;00m _ \u001b[38;5;129;01min\u001b[39;00m \u001b[38;5;28mrange\u001b[39m(\u001b[38;5;241m10\u001b[39m):\n\u001b[0;32m--> 218\u001b[0m     transformed \u001b[38;5;241m=\u001b[39m \u001b[43mfunctional\u001b[49m\u001b[38;5;241;43m.\u001b[39;49m\u001b[43mgumbel_softmax\u001b[49m\u001b[43m(\u001b[49m\u001b[43mlogits\u001b[49m\u001b[43m,\u001b[49m\u001b[43m \u001b[49m\u001b[43mtau\u001b[49m\u001b[38;5;241;43m=\u001b[39;49m\u001b[43mtau\u001b[49m\u001b[43m,\u001b[49m\u001b[43m \u001b[49m\u001b[43mhard\u001b[49m\u001b[38;5;241;43m=\u001b[39;49m\u001b[43mhard\u001b[49m\u001b[43m,\u001b[49m\u001b[43m \u001b[49m\u001b[43meps\u001b[49m\u001b[38;5;241;43m=\u001b[39;49m\u001b[43meps\u001b[49m\u001b[43m,\u001b[49m\u001b[43m \u001b[49m\u001b[43mdim\u001b[49m\u001b[38;5;241;43m=\u001b[39;49m\u001b[43mdim\u001b[49m\u001b[43m)\u001b[49m\n\u001b[1;32m    219\u001b[0m     \u001b[38;5;28;01mif\u001b[39;00m \u001b[38;5;129;01mnot\u001b[39;00m torch\u001b[38;5;241m.\u001b[39misnan(transformed)\u001b[38;5;241m.\u001b[39many():\n\u001b[1;32m    220\u001b[0m         \u001b[38;5;28;01mreturn\u001b[39;00m transformed\n",
      "File \u001b[0;32m~/anaconda3/envs/testenv/lib/python3.10/site-packages/torch/nn/functional.py:2201\u001b[0m, in \u001b[0;36mgumbel_softmax\u001b[0;34m(logits, tau, hard, eps, dim)\u001b[0m\n\u001b[1;32m   2196\u001b[0m \u001b[38;5;28;01mif\u001b[39;00m eps \u001b[38;5;241m!=\u001b[39m \u001b[38;5;241m1e-10\u001b[39m:\n\u001b[1;32m   2197\u001b[0m     warnings\u001b[38;5;241m.\u001b[39mwarn(\u001b[38;5;124m\"\u001b[39m\u001b[38;5;124m`eps` parameter is deprecated and has no effect.\u001b[39m\u001b[38;5;124m\"\u001b[39m)\n\u001b[1;32m   2199\u001b[0m gumbels \u001b[38;5;241m=\u001b[39m (\n\u001b[1;32m   2200\u001b[0m     \u001b[38;5;241m-\u001b[39m\u001b[43mtorch\u001b[49m\u001b[38;5;241;43m.\u001b[39;49m\u001b[43mempty_like\u001b[49m\u001b[43m(\u001b[49m\u001b[43mlogits\u001b[49m\u001b[43m,\u001b[49m\u001b[43m \u001b[49m\u001b[43mmemory_format\u001b[49m\u001b[38;5;241;43m=\u001b[39;49m\u001b[43mtorch\u001b[49m\u001b[38;5;241;43m.\u001b[39;49m\u001b[43mlegacy_contiguous_format\u001b[49m\u001b[43m)\u001b[49m\n\u001b[0;32m-> 2201\u001b[0m \u001b[43m    \u001b[49m\u001b[38;5;241;43m.\u001b[39;49m\u001b[43mexponential_\u001b[49m\u001b[43m(\u001b[49m\u001b[43m)\u001b[49m\n\u001b[1;32m   2202\u001b[0m     \u001b[38;5;241m.\u001b[39mlog()\n\u001b[1;32m   2203\u001b[0m )  \u001b[38;5;66;03m# ~Gumbel(0,1)\u001b[39;00m\n\u001b[1;32m   2204\u001b[0m gumbels \u001b[38;5;241m=\u001b[39m (logits \u001b[38;5;241m+\u001b[39m gumbels) \u001b[38;5;241m/\u001b[39m tau  \u001b[38;5;66;03m# ~Gumbel(logits,tau)\u001b[39;00m\n\u001b[1;32m   2205\u001b[0m y_soft \u001b[38;5;241m=\u001b[39m gumbels\u001b[38;5;241m.\u001b[39msoftmax(dim)\n",
      "\u001b[0;31mKeyboardInterrupt\u001b[0m: "
     ]
    }
   ],
   "source": [
    "\n",
    "\n",
    "# Load and prepare training data\n",
    "data = pd.read_csv('train_data.csv')\n",
    "data = data.drop(columns=['FlowID', 'SourceIP', 'DestinationIP', 'Timestamp', 'Label'])\n",
    "data = data.sample(n=10000, random_state=42)\n",
    "\n",
    "# Train CTGAN\n",
    "model = CTGAN(epochs=100)\n",
    "model.fit(data)\n",
    "\n",
    "# Generate synthetic data\n",
    "generated_data = model.sample(1000)\n",
    "\n",
    "# Clip all negative values to 0\n",
    "generated_data = generated_data.clip(lower=0)\n",
    "\n",
    "# Save the cleaned synthetic data\n",
    "generated_data.to_csv('generated_data.csv', index=False)\n",
    "print(\"Generated data saved to 'generated_data.csv'\")\n"
   ]
  }
 ],
 "metadata": {
  "kernelspec": {
   "display_name": "testenv",
   "language": "python",
   "name": "python3"
  },
  "language_info": {
   "codemirror_mode": {
    "name": "ipython",
    "version": 3
   },
   "file_extension": ".py",
   "mimetype": "text/x-python",
   "name": "python",
   "nbconvert_exporter": "python",
   "pygments_lexer": "ipython3",
   "version": "3.10.9"
  }
 },
 "nbformat": 4,
 "nbformat_minor": 5
}
