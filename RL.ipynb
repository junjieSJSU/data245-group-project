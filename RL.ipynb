{
  "cells": [
    {
      "cell_type": "code",
      "execution_count": 1,
      "metadata": {
        "id": "wwsfiTWVq8YI"
      },
      "outputs": [],
      "source": [
        "import pandas as pd\n",
        "from sklearn.preprocessing import StandardScaler"
      ]
    },
    {
      "cell_type": "code",
      "execution_count": 2,
      "metadata": {
        "id": "HNz5zf0QrHr1"
      },
      "outputs": [],
      "source": [
        "df_train=pd.read_csv('/Users/mayankkapadia/Desktop/SJSUMATERIAL/SEM2/ML/Project/Dataset/train_data.csv')\n",
        "df_test=pd.read_csv('/Users/mayankkapadia/Desktop/SJSUMATERIAL/SEM2/ML/Project/Dataset/test_data.csv')"
      ]
    },
    {
      "cell_type": "code",
      "execution_count": 3,
      "metadata": {
        "id": "EihaIVKpuYak"
      },
      "outputs": [],
      "source": [
        "for col in df_train.columns:\n",
        "  if df_train[col].isna().any():\n",
        "    print(col)"
      ]
    },
    {
      "cell_type": "code",
      "execution_count": 4,
      "metadata": {
        "id": "G6Z0cAE6u6dA"
      },
      "outputs": [],
      "source": [
        "for col in df_test.columns:\n",
        "  if df_test[col].isna().sum()>0:\n",
        "    print(col)"
      ]
    },
    {
      "cell_type": "code",
      "execution_count": 5,
      "metadata": {},
      "outputs": [
        {
          "data": {
            "text/plain": [
              "0            BENIGN\n",
              "1          PortScan\n",
              "2            BENIGN\n",
              "3            BENIGN\n",
              "4            BENIGN\n",
              "             ...   \n",
              "2558775      BENIGN\n",
              "2558776      BENIGN\n",
              "2558777      BENIGN\n",
              "2558778    DoS Hulk\n",
              "2558779      BENIGN\n",
              "Name: Label, Length: 2558780, dtype: object"
            ]
          },
          "execution_count": 5,
          "metadata": {},
          "output_type": "execute_result"
        }
      ],
      "source": [
        "df_train['Label']"
      ]
    },
    {
      "cell_type": "code",
      "execution_count": 6,
      "metadata": {
        "colab": {
          "base_uri": "https://localhost:8080/",
          "height": 165
        },
        "id": "SarkZCmzrLyO",
        "outputId": "eef638d0-91d9-4d16-a597-227af6f61491"
      },
      "outputs": [
        {
          "data": {
            "text/html": [
              "<div>\n",
              "<style scoped>\n",
              "    .dataframe tbody tr th:only-of-type {\n",
              "        vertical-align: middle;\n",
              "    }\n",
              "\n",
              "    .dataframe tbody tr th {\n",
              "        vertical-align: top;\n",
              "    }\n",
              "\n",
              "    .dataframe thead th {\n",
              "        text-align: right;\n",
              "    }\n",
              "</style>\n",
              "<table border=\"1\" class=\"dataframe\">\n",
              "  <thead>\n",
              "    <tr style=\"text-align: right;\">\n",
              "      <th></th>\n",
              "      <th>FlowID</th>\n",
              "      <th>SourceIP</th>\n",
              "      <th>SourcePort</th>\n",
              "      <th>DestinationIP</th>\n",
              "      <th>DestinationPort</th>\n",
              "      <th>Protocol</th>\n",
              "      <th>Timestamp</th>\n",
              "      <th>FlowDuration</th>\n",
              "      <th>TotalFwdPackets</th>\n",
              "      <th>TotalBackwardPackets</th>\n",
              "      <th>...</th>\n",
              "      <th>min_seg_size_forward</th>\n",
              "      <th>ActiveMean</th>\n",
              "      <th>ActiveStd</th>\n",
              "      <th>ActiveMax</th>\n",
              "      <th>ActiveMin</th>\n",
              "      <th>IdleMean</th>\n",
              "      <th>IdleStd</th>\n",
              "      <th>IdleMax</th>\n",
              "      <th>IdleMin</th>\n",
              "      <th>Label</th>\n",
              "    </tr>\n",
              "  </thead>\n",
              "  <tbody>\n",
              "    <tr>\n",
              "      <th>0</th>\n",
              "      <td>192.168.10.3-192.168.10.12-53-26526-17</td>\n",
              "      <td>192.168.10.12</td>\n",
              "      <td>26526</td>\n",
              "      <td>192.168.10.3</td>\n",
              "      <td>53</td>\n",
              "      <td>17</td>\n",
              "      <td>6/7/2017 3:12</td>\n",
              "      <td>31419</td>\n",
              "      <td>2</td>\n",
              "      <td>2</td>\n",
              "      <td>...</td>\n",
              "      <td>20</td>\n",
              "      <td>0.0</td>\n",
              "      <td>0.0</td>\n",
              "      <td>0.0</td>\n",
              "      <td>0.0</td>\n",
              "      <td>0.0</td>\n",
              "      <td>0.0</td>\n",
              "      <td>0.0</td>\n",
              "      <td>0.0</td>\n",
              "      <td>BENIGN</td>\n",
              "    </tr>\n",
              "  </tbody>\n",
              "</table>\n",
              "<p>1 rows × 85 columns</p>\n",
              "</div>"
            ],
            "text/plain": [
              "                                   FlowID       SourceIP  SourcePort  \\\n",
              "0  192.168.10.3-192.168.10.12-53-26526-17  192.168.10.12       26526   \n",
              "\n",
              "  DestinationIP  DestinationPort  Protocol      Timestamp  FlowDuration  \\\n",
              "0  192.168.10.3               53        17  6/7/2017 3:12         31419   \n",
              "\n",
              "   TotalFwdPackets  TotalBackwardPackets  ...  min_seg_size_forward  \\\n",
              "0                2                     2  ...                    20   \n",
              "\n",
              "   ActiveMean  ActiveStd  ActiveMax  ActiveMin  IdleMean  IdleStd  IdleMax  \\\n",
              "0         0.0        0.0        0.0        0.0       0.0      0.0      0.0   \n",
              "\n",
              "   IdleMin   Label  \n",
              "0      0.0  BENIGN  \n",
              "\n",
              "[1 rows x 85 columns]"
            ]
          },
          "execution_count": 6,
          "metadata": {},
          "output_type": "execute_result"
        }
      ],
      "source": [
        "df_train.head(1)"
      ]
    },
    {
      "cell_type": "code",
      "execution_count": 7,
      "metadata": {
        "colab": {
          "base_uri": "https://localhost:8080/",
          "height": 165
        },
        "id": "iYtmaNZirUUc",
        "outputId": "f3240b9e-2b9f-46ba-cf50-c8fd7ca7e887"
      },
      "outputs": [
        {
          "data": {
            "text/html": [
              "<div>\n",
              "<style scoped>\n",
              "    .dataframe tbody tr th:only-of-type {\n",
              "        vertical-align: middle;\n",
              "    }\n",
              "\n",
              "    .dataframe tbody tr th {\n",
              "        vertical-align: top;\n",
              "    }\n",
              "\n",
              "    .dataframe thead th {\n",
              "        text-align: right;\n",
              "    }\n",
              "</style>\n",
              "<table border=\"1\" class=\"dataframe\">\n",
              "  <thead>\n",
              "    <tr style=\"text-align: right;\">\n",
              "      <th></th>\n",
              "      <th>FlowID</th>\n",
              "      <th>SourceIP</th>\n",
              "      <th>SourcePort</th>\n",
              "      <th>DestinationIP</th>\n",
              "      <th>DestinationPort</th>\n",
              "      <th>Protocol</th>\n",
              "      <th>Timestamp</th>\n",
              "      <th>FlowDuration</th>\n",
              "      <th>TotalFwdPackets</th>\n",
              "      <th>TotalBackwardPackets</th>\n",
              "      <th>...</th>\n",
              "      <th>min_seg_size_forward</th>\n",
              "      <th>ActiveMean</th>\n",
              "      <th>ActiveStd</th>\n",
              "      <th>ActiveMax</th>\n",
              "      <th>ActiveMin</th>\n",
              "      <th>IdleMean</th>\n",
              "      <th>IdleStd</th>\n",
              "      <th>IdleMax</th>\n",
              "      <th>IdleMin</th>\n",
              "      <th>Label</th>\n",
              "    </tr>\n",
              "  </thead>\n",
              "  <tbody>\n",
              "    <tr>\n",
              "      <th>0</th>\n",
              "      <td>192.168.10.5-211.233.74.132-58565-80-6</td>\n",
              "      <td>192.168.10.5</td>\n",
              "      <td>58565</td>\n",
              "      <td>211.233.74.132</td>\n",
              "      <td>80</td>\n",
              "      <td>6</td>\n",
              "      <td>6/7/2017 4:55</td>\n",
              "      <td>5658973</td>\n",
              "      <td>3</td>\n",
              "      <td>1</td>\n",
              "      <td>...</td>\n",
              "      <td>20</td>\n",
              "      <td>0.0</td>\n",
              "      <td>0.0</td>\n",
              "      <td>0.0</td>\n",
              "      <td>0.0</td>\n",
              "      <td>0.0</td>\n",
              "      <td>0.0</td>\n",
              "      <td>0.0</td>\n",
              "      <td>0.0</td>\n",
              "      <td>BENIGN</td>\n",
              "    </tr>\n",
              "  </tbody>\n",
              "</table>\n",
              "<p>1 rows × 85 columns</p>\n",
              "</div>"
            ],
            "text/plain": [
              "                                   FlowID      SourceIP  SourcePort  \\\n",
              "0  192.168.10.5-211.233.74.132-58565-80-6  192.168.10.5       58565   \n",
              "\n",
              "    DestinationIP  DestinationPort  Protocol      Timestamp  FlowDuration  \\\n",
              "0  211.233.74.132               80         6  6/7/2017 4:55       5658973   \n",
              "\n",
              "   TotalFwdPackets  TotalBackwardPackets  ...  min_seg_size_forward  \\\n",
              "0                3                     1  ...                    20   \n",
              "\n",
              "   ActiveMean  ActiveStd  ActiveMax  ActiveMin  IdleMean  IdleStd  IdleMax  \\\n",
              "0         0.0        0.0        0.0        0.0       0.0      0.0      0.0   \n",
              "\n",
              "   IdleMin   Label  \n",
              "0      0.0  BENIGN  \n",
              "\n",
              "[1 rows x 85 columns]"
            ]
          },
          "execution_count": 7,
          "metadata": {},
          "output_type": "execute_result"
        }
      ],
      "source": [
        "df_test.head(1)"
      ]
    },
    {
      "cell_type": "code",
      "execution_count": 8,
      "metadata": {
        "id": "zUURS4NtskpX"
      },
      "outputs": [],
      "source": [
        "df_train['label_encoded']=df_train['Label'].apply(lambda x: 1 if x=='BENIGN' else 0)\n",
        "X_train=df_train.drop(['Label','label_encoded','FlowID','SourceIP','DestinationIP','Timestamp'],axis=1)\n",
        "y_train=df_train['label_encoded']"
      ]
    },
    {
      "cell_type": "code",
      "execution_count": 9,
      "metadata": {
        "id": "tovfXSTCrVOG"
      },
      "outputs": [],
      "source": [
        "df_test['label_encoded']=df_test['Label'].apply(lambda x: 1 if x=='BENIGN' else 0)\n",
        "X_test=df_test.drop(['Label','label_encoded','FlowID','SourceIP','DestinationIP','Timestamp'],axis=1)\n",
        "y_test=df_test['label_encoded']"
      ]
    },
    {
      "cell_type": "code",
      "execution_count": 10,
      "metadata": {},
      "outputs": [
        {
          "data": {
            "text/plain": [
              "array([1, 0])"
            ]
          },
          "execution_count": 10,
          "metadata": {},
          "output_type": "execute_result"
        }
      ],
      "source": [
        "y_train.unique()"
      ]
    },
    {
      "cell_type": "code",
      "execution_count": 11,
      "metadata": {
        "id": "2uhCq6weri86"
      },
      "outputs": [],
      "source": [
        "scaler=StandardScaler()\n",
        "X_scaled_train=scaler.fit_transform(X_train)"
      ]
    },
    {
      "cell_type": "code",
      "execution_count": 12,
      "metadata": {
        "id": "Kd0lNIChrmLN"
      },
      "outputs": [],
      "source": [
        "X_scaled_test=scaler.transform(X_test)"
      ]
    },
    {
      "cell_type": "code",
      "execution_count": 13,
      "metadata": {
        "colab": {
          "base_uri": "https://localhost:8080/"
        },
        "id": "7Fo_m29CuMLH",
        "outputId": "39d2ec67-ef72-45f1-ca34-944dc00a8e6f"
      },
      "outputs": [
        {
          "data": {
            "text/plain": [
              "array([[-0.68201212, -0.44825671,  1.39849855, ..., -0.10427153,\n",
              "        -0.33890149, -0.32216095],\n",
              "       [-0.19345685, -0.24700703, -0.71351109, ..., -0.10427153,\n",
              "        -0.33890149, -0.32216095],\n",
              "       [ 0.5454551 , -0.44678175, -0.71351109, ..., -0.10427153,\n",
              "        -0.33890149, -0.32216095],\n",
              "       ...,\n",
              "       [ 0.75760711, -0.42695177, -0.71351109, ..., -0.10427153,\n",
              "        -0.33890149, -0.32216095],\n",
              "       [-0.35415324, -0.44678175, -0.71351109, ..., -0.10427153,\n",
              "         3.90541   ,  4.10713564],\n",
              "       [ 0.57182041, -0.44825671,  1.39849855, ..., -0.10427153,\n",
              "        -0.33890149, -0.32216095]])"
            ]
          },
          "execution_count": 13,
          "metadata": {},
          "output_type": "execute_result"
        }
      ],
      "source": [
        "X_scaled_train"
      ]
    },
    {
      "cell_type": "code",
      "execution_count": 14,
      "metadata": {},
      "outputs": [
        {
          "name": "stdout",
          "output_type": "stream",
          "text": [
            "Requirement already satisfied: gym in /Users/mayankkapadia/anaconda3/envs/testenv/lib/python3.10/site-packages (0.26.2)\n",
            "Requirement already satisfied: gym_notices>=0.0.4 in /Users/mayankkapadia/anaconda3/envs/testenv/lib/python3.10/site-packages (from gym) (0.0.8)\n",
            "Requirement already satisfied: numpy>=1.18.0 in /Users/mayankkapadia/anaconda3/envs/testenv/lib/python3.10/site-packages (from gym) (1.24.2)\n",
            "Requirement already satisfied: cloudpickle>=1.2.0 in /Users/mayankkapadia/anaconda3/envs/testenv/lib/python3.10/site-packages (from gym) (3.1.1)\n"
          ]
        }
      ],
      "source": [
        "!pip install gym"
      ]
    },
    {
      "cell_type": "code",
      "execution_count": 15,
      "metadata": {
        "id": "7NKV0ywPs59V"
      },
      "outputs": [],
      "source": [
        "#Creating Custom Gym Enviornment\n",
        "\n",
        "import gym\n",
        "from gym import Env\n",
        "from gym.spaces import Discrete, Box, Dict, Tuple, MultiBinary, MultiDiscrete\n",
        "import numpy as np"
      ]
    },
    {
      "cell_type": "code",
      "execution_count": 16,
      "metadata": {
        "id": "uYhNCB-atiL3"
      },
      "outputs": [],
      "source": [
        "class CICIDS2017_env(Env):\n",
        "    def __init__(self, X, y):\n",
        "        self.index = 0\n",
        "        self.X = np.array(X)\n",
        "        self.y = np.array(y)\n",
        "        self.action_space = Discrete(2)\n",
        "        self.observation_space = Box(low=-1, high=1, shape=(X.shape[1],), dtype=float)\n",
        "\n",
        "    def step(self, action):\n",
        "        true_label = self.y[self.index]\n",
        "        if action == true_label:\n",
        "            reward = 1\n",
        "        elif action == 1 and true_label == 0:\n",
        "            reward = -0.2  # False positive\n",
        "        else:\n",
        "            reward = -1    # False negative (missed attack)\n",
        "\n",
        "        self.index += 1\n",
        "        done = self.index >= len(self.X)\n",
        "        obs = self.X[self.index] if not done else np.zeros_like(self.X[0])\n",
        "        info = {}\n",
        "        return obs, reward, done, info\n",
        "\n",
        "    def reset(self):\n",
        "        self.index = 0\n",
        "        return self.X[self.index]"
      ]
    },
    {
      "cell_type": "code",
      "execution_count": 17,
      "metadata": {
        "colab": {
          "base_uri": "https://localhost:8080/"
        },
        "id": "kXIAGpajCraY",
        "outputId": "58b1b872-4a57-4936-df71-a04d742b6c49"
      },
      "outputs": [
        {
          "name": "stdout",
          "output_type": "stream",
          "text": [
            "Requirement already satisfied: stable-baselines3 in /Users/mayankkapadia/anaconda3/envs/testenv/lib/python3.10/site-packages (2.6.0)\n",
            "Requirement already satisfied: pandas in /Users/mayankkapadia/anaconda3/envs/testenv/lib/python3.10/site-packages (from stable-baselines3) (1.5.3)\n",
            "Requirement already satisfied: matplotlib in /Users/mayankkapadia/anaconda3/envs/testenv/lib/python3.10/site-packages (from stable-baselines3) (3.10.1)\n",
            "Requirement already satisfied: cloudpickle in /Users/mayankkapadia/anaconda3/envs/testenv/lib/python3.10/site-packages (from stable-baselines3) (3.1.1)\n",
            "Requirement already satisfied: torch<3.0,>=2.3 in /Users/mayankkapadia/anaconda3/envs/testenv/lib/python3.10/site-packages (from stable-baselines3) (2.6.0)\n",
            "Requirement already satisfied: numpy<3.0,>=1.20 in /Users/mayankkapadia/anaconda3/envs/testenv/lib/python3.10/site-packages (from stable-baselines3) (1.24.2)\n",
            "Requirement already satisfied: gymnasium<1.2.0,>=0.29.1 in /Users/mayankkapadia/anaconda3/envs/testenv/lib/python3.10/site-packages (from stable-baselines3) (1.1.1)\n",
            "Requirement already satisfied: farama-notifications>=0.0.1 in /Users/mayankkapadia/anaconda3/envs/testenv/lib/python3.10/site-packages (from gymnasium<1.2.0,>=0.29.1->stable-baselines3) (0.0.4)\n",
            "Requirement already satisfied: typing-extensions>=4.3.0 in /Users/mayankkapadia/anaconda3/envs/testenv/lib/python3.10/site-packages (from gymnasium<1.2.0,>=0.29.1->stable-baselines3) (4.12.2)\n",
            "Requirement already satisfied: jinja2 in /Users/mayankkapadia/anaconda3/envs/testenv/lib/python3.10/site-packages (from torch<3.0,>=2.3->stable-baselines3) (3.1.5)\n",
            "Requirement already satisfied: networkx in /Users/mayankkapadia/anaconda3/envs/testenv/lib/python3.10/site-packages (from torch<3.0,>=2.3->stable-baselines3) (3.4.2)\n",
            "Requirement already satisfied: fsspec in /Users/mayankkapadia/anaconda3/envs/testenv/lib/python3.10/site-packages (from torch<3.0,>=2.3->stable-baselines3) (2025.2.0)\n",
            "Requirement already satisfied: sympy==1.13.1 in /Users/mayankkapadia/anaconda3/envs/testenv/lib/python3.10/site-packages (from torch<3.0,>=2.3->stable-baselines3) (1.13.1)\n",
            "Requirement already satisfied: filelock in /Users/mayankkapadia/anaconda3/envs/testenv/lib/python3.10/site-packages (from torch<3.0,>=2.3->stable-baselines3) (3.17.0)\n",
            "Requirement already satisfied: mpmath<1.4,>=1.1.0 in /Users/mayankkapadia/anaconda3/envs/testenv/lib/python3.10/site-packages (from sympy==1.13.1->torch<3.0,>=2.3->stable-baselines3) (1.3.0)\n",
            "Requirement already satisfied: cycler>=0.10 in /Users/mayankkapadia/anaconda3/envs/testenv/lib/python3.10/site-packages (from matplotlib->stable-baselines3) (0.12.1)\n",
            "Requirement already satisfied: pillow>=8 in /Users/mayankkapadia/anaconda3/envs/testenv/lib/python3.10/site-packages (from matplotlib->stable-baselines3) (9.4.0)\n",
            "Requirement already satisfied: contourpy>=1.0.1 in /Users/mayankkapadia/anaconda3/envs/testenv/lib/python3.10/site-packages (from matplotlib->stable-baselines3) (1.3.2)\n",
            "Requirement already satisfied: python-dateutil>=2.7 in /Users/mayankkapadia/anaconda3/envs/testenv/lib/python3.10/site-packages (from matplotlib->stable-baselines3) (2.8.2)\n",
            "Requirement already satisfied: fonttools>=4.22.0 in /Users/mayankkapadia/anaconda3/envs/testenv/lib/python3.10/site-packages (from matplotlib->stable-baselines3) (4.57.0)\n",
            "Requirement already satisfied: kiwisolver>=1.3.1 in /Users/mayankkapadia/anaconda3/envs/testenv/lib/python3.10/site-packages (from matplotlib->stable-baselines3) (1.4.8)\n",
            "Requirement already satisfied: packaging>=20.0 in /Users/mayankkapadia/anaconda3/envs/testenv/lib/python3.10/site-packages (from matplotlib->stable-baselines3) (23.0)\n",
            "Requirement already satisfied: pyparsing>=2.3.1 in /Users/mayankkapadia/anaconda3/envs/testenv/lib/python3.10/site-packages (from matplotlib->stable-baselines3) (3.2.3)\n",
            "Requirement already satisfied: pytz>=2020.1 in /Users/mayankkapadia/anaconda3/envs/testenv/lib/python3.10/site-packages (from pandas->stable-baselines3) (2022.7.1)\n",
            "Requirement already satisfied: six>=1.5 in /Users/mayankkapadia/anaconda3/envs/testenv/lib/python3.10/site-packages (from python-dateutil>=2.7->matplotlib->stable-baselines3) (1.16.0)\n",
            "Requirement already satisfied: MarkupSafe>=2.0 in /Users/mayankkapadia/anaconda3/envs/testenv/lib/python3.10/site-packages (from jinja2->torch<3.0,>=2.3->stable-baselines3) (2.1.2)\n"
          ]
        }
      ],
      "source": [
        "!pip install --upgrade stable-baselines3"
      ]
    },
    {
      "cell_type": "code",
      "execution_count": 18,
      "metadata": {},
      "outputs": [
        {
          "name": "stdout",
          "output_type": "stream",
          "text": [
            "Requirement already satisfied: shimmy>=2.0 in /Users/mayankkapadia/anaconda3/envs/testenv/lib/python3.10/site-packages (2.0.0)\n",
            "Requirement already satisfied: gymnasium>=1.0.0a1 in /Users/mayankkapadia/anaconda3/envs/testenv/lib/python3.10/site-packages (from shimmy>=2.0) (1.1.1)\n",
            "Requirement already satisfied: numpy>=1.18.0 in /Users/mayankkapadia/anaconda3/envs/testenv/lib/python3.10/site-packages (from shimmy>=2.0) (1.24.2)\n",
            "Requirement already satisfied: typing-extensions>=4.3.0 in /Users/mayankkapadia/anaconda3/envs/testenv/lib/python3.10/site-packages (from gymnasium>=1.0.0a1->shimmy>=2.0) (4.12.2)\n",
            "Requirement already satisfied: cloudpickle>=1.2.0 in /Users/mayankkapadia/anaconda3/envs/testenv/lib/python3.10/site-packages (from gymnasium>=1.0.0a1->shimmy>=2.0) (3.1.1)\n",
            "Requirement already satisfied: farama-notifications>=0.0.1 in /Users/mayankkapadia/anaconda3/envs/testenv/lib/python3.10/site-packages (from gymnasium>=1.0.0a1->shimmy>=2.0) (0.0.4)\n",
            "Note: you may need to restart the kernel to use updated packages.\n"
          ]
        }
      ],
      "source": [
        "pip install \"shimmy>=2.0\""
      ]
    },
    {
      "cell_type": "code",
      "execution_count": 19,
      "metadata": {
        "colab": {
          "base_uri": "https://localhost:8080/"
        },
        "id": "4oKlPTBjL885",
        "outputId": "96ef30ef-3eb7-4c2d-8b59-f387196b63da"
      },
      "outputs": [
        {
          "name": "stderr",
          "output_type": "stream",
          "text": [
            "/Users/mayankkapadia/anaconda3/envs/testenv/lib/python3.10/site-packages/stable_baselines3/common/vec_env/patch_gym.py:49: UserWarning: You provided an OpenAI Gym environment. We strongly recommend transitioning to Gymnasium environments. Stable-Baselines3 is automatically wrapping your environments in a compatibility layer, which could potentially cause issues.\n",
            "  warnings.warn(\n"
          ]
        },
        {
          "data": {
            "text/plain": [
              "7"
            ]
          },
          "execution_count": 19,
          "metadata": {},
          "output_type": "execute_result"
        }
      ],
      "source": [
        "# Dummy warm-up run (discard result)\n",
        "from stable_baselines3 import PPO\n",
        "import gc\n",
        "env_warmup = CICIDS2017_env(X_scaled_train, y_train)\n",
        "model_warmup = PPO('MlpPolicy', env_warmup, verbose=0)\n",
        "model_warmup.learn(total_timesteps=100)\n",
        "del model_warmup, env_warmup\n",
        "gc.collect()"
      ]
    },
    {
      "cell_type": "code",
      "execution_count": 20,
      "metadata": {},
      "outputs": [
        {
          "name": "stdout",
          "output_type": "stream",
          "text": [
            "Requirement already satisfied: psutil in /Users/mayankkapadia/anaconda3/envs/testenv/lib/python3.10/site-packages (7.0.0)\n"
          ]
        }
      ],
      "source": [
        "!pip install psutil"
      ]
    },
    {
      "cell_type": "code",
      "execution_count": 21,
      "metadata": {
        "colab": {
          "base_uri": "https://localhost:8080/"
        },
        "id": "1cLOiToBxp_i",
        "outputId": "26a0a149-9e55-41ee-cfc0-5ed496ba885b"
      },
      "outputs": [
        {
          "name": "stdout",
          "output_type": "stream",
          "text": [
            "\n",
            "Training for 1000 timesteps...\n"
          ]
        },
        {
          "name": "stderr",
          "output_type": "stream",
          "text": [
            "/Users/mayankkapadia/anaconda3/envs/testenv/lib/python3.10/site-packages/stable_baselines3/common/vec_env/patch_gym.py:49: UserWarning: You provided an OpenAI Gym environment. We strongly recommend transitioning to Gymnasium environments. Stable-Baselines3 is automatically wrapping your environments in a compatibility layer, which could potentially cause issues.\n",
            "  warnings.warn(\n"
          ]
        },
        {
          "name": "stdout",
          "output_type": "stream",
          "text": [
            "Timesteps: 1000 | Accuracy: 0.5764 | Precision: 0.8069 | Recall: 0.5939 | F1: 0.6842 | Time: 2.08s | Memory: 121.30 MB\n",
            "\n",
            "Training for 5000 timesteps...\n"
          ]
        },
        {
          "name": "stderr",
          "output_type": "stream",
          "text": [
            "/Users/mayankkapadia/anaconda3/envs/testenv/lib/python3.10/site-packages/stable_baselines3/common/vec_env/patch_gym.py:49: UserWarning: You provided an OpenAI Gym environment. We strongly recommend transitioning to Gymnasium environments. Stable-Baselines3 is automatically wrapping your environments in a compatibility layer, which could potentially cause issues.\n",
            "  warnings.warn(\n"
          ]
        },
        {
          "name": "stdout",
          "output_type": "stream",
          "text": [
            "Timesteps: 5000 | Accuracy: 0.7309 | Precision: 0.8627 | Recall: 0.7751 | F1: 0.8166 | Time: 4.39s | Memory: 197.31 MB\n",
            "\n",
            "Training for 10000 timesteps...\n"
          ]
        },
        {
          "name": "stderr",
          "output_type": "stream",
          "text": [
            "/Users/mayankkapadia/anaconda3/envs/testenv/lib/python3.10/site-packages/stable_baselines3/common/vec_env/patch_gym.py:49: UserWarning: You provided an OpenAI Gym environment. We strongly recommend transitioning to Gymnasium environments. Stable-Baselines3 is automatically wrapping your environments in a compatibility layer, which could potentially cause issues.\n",
            "  warnings.warn(\n"
          ]
        },
        {
          "name": "stdout",
          "output_type": "stream",
          "text": [
            "Timesteps: 10000 | Accuracy: 0.8449 | Precision: 0.9001 | Recall: 0.8990 | F1: 0.8996 | Time: 6.31s | Memory: 582.95 MB\n",
            "\n",
            "Training for 15000 timesteps...\n"
          ]
        },
        {
          "name": "stderr",
          "output_type": "stream",
          "text": [
            "/Users/mayankkapadia/anaconda3/envs/testenv/lib/python3.10/site-packages/stable_baselines3/common/vec_env/patch_gym.py:49: UserWarning: You provided an OpenAI Gym environment. We strongly recommend transitioning to Gymnasium environments. Stable-Baselines3 is automatically wrapping your environments in a compatibility layer, which could potentially cause issues.\n",
            "  warnings.warn(\n"
          ]
        },
        {
          "name": "stdout",
          "output_type": "stream",
          "text": [
            "Timesteps: 15000 | Accuracy: 0.8934 | Precision: 0.9069 | Recall: 0.9607 | F1: 0.9330 | Time: 9.49s | Memory: 393.84 MB\n",
            "\n",
            "Training for 50000 timesteps...\n"
          ]
        },
        {
          "name": "stderr",
          "output_type": "stream",
          "text": [
            "/Users/mayankkapadia/anaconda3/envs/testenv/lib/python3.10/site-packages/stable_baselines3/common/vec_env/patch_gym.py:49: UserWarning: You provided an OpenAI Gym environment. We strongly recommend transitioning to Gymnasium environments. Stable-Baselines3 is automatically wrapping your environments in a compatibility layer, which could potentially cause issues.\n",
            "  warnings.warn(\n"
          ]
        },
        {
          "name": "stdout",
          "output_type": "stream",
          "text": [
            "Timesteps: 50000 | Accuracy: 0.9536 | Precision: 0.9683 | Recall: 0.9718 | F1: 0.9700 | Time: 27.64s | Memory: -377.81 MB\n",
            "\n",
            "Training for 100000 timesteps...\n"
          ]
        },
        {
          "name": "stderr",
          "output_type": "stream",
          "text": [
            "/Users/mayankkapadia/anaconda3/envs/testenv/lib/python3.10/site-packages/stable_baselines3/common/vec_env/patch_gym.py:49: UserWarning: You provided an OpenAI Gym environment. We strongly recommend transitioning to Gymnasium environments. Stable-Baselines3 is automatically wrapping your environments in a compatibility layer, which could potentially cause issues.\n",
            "  warnings.warn(\n"
          ]
        },
        {
          "name": "stdout",
          "output_type": "stream",
          "text": [
            "Timesteps: 100000 | Accuracy: 0.9576 | Precision: 0.9653 | Recall: 0.9804 | F1: 0.9728 | Time: 52.60s | Memory: -351.23 MB\n",
            "\n",
            "Training for 200000 timesteps...\n"
          ]
        },
        {
          "name": "stderr",
          "output_type": "stream",
          "text": [
            "/Users/mayankkapadia/anaconda3/envs/testenv/lib/python3.10/site-packages/stable_baselines3/common/vec_env/patch_gym.py:49: UserWarning: You provided an OpenAI Gym environment. We strongly recommend transitioning to Gymnasium environments. Stable-Baselines3 is automatically wrapping your environments in a compatibility layer, which could potentially cause issues.\n",
            "  warnings.warn(\n"
          ]
        },
        {
          "name": "stdout",
          "output_type": "stream",
          "text": [
            "Timesteps: 200000 | Accuracy: 0.9624 | Precision: 0.9728 | Recall: 0.9786 | F1: 0.9757 | Time: 104.10s | Memory: -85.58 MB\n",
            "\n",
            "Training for 500000 timesteps...\n"
          ]
        },
        {
          "name": "stderr",
          "output_type": "stream",
          "text": [
            "/Users/mayankkapadia/anaconda3/envs/testenv/lib/python3.10/site-packages/stable_baselines3/common/vec_env/patch_gym.py:49: UserWarning: You provided an OpenAI Gym environment. We strongly recommend transitioning to Gymnasium environments. Stable-Baselines3 is automatically wrapping your environments in a compatibility layer, which could potentially cause issues.\n",
            "  warnings.warn(\n"
          ]
        },
        {
          "name": "stdout",
          "output_type": "stream",
          "text": [
            "Timesteps: 500000 | Accuracy: 0.9666 | Precision: 0.9735 | Recall: 0.9835 | F1: 0.9785 | Time: 254.74s | Memory: -524.06 MB\n"
          ]
        },
        {
          "data": {
            "image/png": "[encoded data removed]",
            "text/plain": [
              "<Figure size 864x576 with 4 Axes>"
            ]
          },
          "metadata": {
            "needs_background": "light"
          },
          "output_type": "display_data"
        },
        {
          "data": {
            "image/png": "[encoded data removed]",
            "text/plain": [
              "<Figure size 432x288 with 2 Axes>"
            ]
          },
          "metadata": {
            "needs_background": "light"
          },
          "output_type": "display_data"
        }
      ],
      "source": [
        "import time\n",
        "import psutil\n",
        "import matplotlib.pyplot as plt\n",
        "import gc\n",
        "import os\n",
        "from stable_baselines3 import PPO\n",
        "from sklearn.metrics import precision_score, recall_score, f1_score, confusion_matrix, ConfusionMatrixDisplay\n",
        "\n",
        "# Ensure output directory exists\n",
        "os.makedirs(\"saved_models\", exist_ok=True)\n",
        "os.makedirs(\"confusion_matrices\", exist_ok=True)\n",
        "\n",
        "timesteps_list = [1000, 5000, 10000, 15000, 50000, 100000,200000,500000]\n",
        "accuracies = []\n",
        "precisions = []\n",
        "recalls = []\n",
        "f1_scores = []\n",
        "train_times = []\n",
        "memory_usages = []\n",
        "\n",
        "final_conf_matrix = None  # Will store confusion matrix of last model\n",
        "\n",
        "for t in timesteps_list:\n",
        "    print(f\"\\nTraining for {t} timesteps...\")\n",
        "\n",
        "    gc.collect()\n",
        "\n",
        "    start_time = time.time()\n",
        "    process = psutil.Process()\n",
        "    mem_before = process.memory_info().rss / (1024 ** 2)\n",
        "\n",
        "    env_train = CICIDS2017_env(X_scaled_train, y_train)\n",
        "    model = PPO('MlpPolicy', env_train, verbose=0)\n",
        "    model.learn(total_timesteps=t)\n",
        "\n",
        "    mem_after = process.memory_info().rss / (1024 ** 2)\n",
        "    memory_used = mem_after - mem_before\n",
        "    train_duration = time.time() - start_time\n",
        "\n",
        "    # Save the model\n",
        "    model_path = f\"saved_models/ppo_cicids_{t}_timesteps.zip\"\n",
        "    model.save(model_path)\n",
        "\n",
        "    # Evaluation\n",
        "    env_test = CICIDS2017_env(X_scaled_test, y_test)\n",
        "    obs = env_test.reset()\n",
        "    true_labels, pred_labels = [], []\n",
        "\n",
        "    for _ in range(len(X_scaled_test)):\n",
        "        action, _ = model.predict(obs)\n",
        "        true_labels.append(env_test.y[env_test.index])\n",
        "        pred_labels.append(action)\n",
        "        obs, reward, done, _ = env_test.step(action)\n",
        "        if done:\n",
        "            break\n",
        "\n",
        "    # Metrics\n",
        "    accuracy = sum([int(p == t) for p, t in zip(pred_labels, true_labels)]) / len(true_labels)\n",
        "    precision = precision_score(true_labels, pred_labels, zero_division=0)\n",
        "    recall = recall_score(true_labels, pred_labels, zero_division=0)\n",
        "    f1 = f1_score(true_labels, pred_labels, zero_division=0)\n",
        "\n",
        "    accuracies.append(accuracy)\n",
        "    precisions.append(precision)\n",
        "    recalls.append(recall)\n",
        "    f1_scores.append(f1)\n",
        "    train_times.append(train_duration)\n",
        "    memory_usages.append(memory_used)\n",
        "\n",
        "    print(f\"Timesteps: {t} | Accuracy: {accuracy:.4f} | Precision: {precision:.4f} | Recall: {recall:.4f} | F1: {f1:.4f} | Time: {train_duration:.2f}s | Memory: {memory_used:.2f} MB\")\n",
        "\n",
        "    # Confusion Matrix\n",
        "    cm = confusion_matrix(true_labels, pred_labels)\n",
        "    disp = ConfusionMatrixDisplay(confusion_matrix=cm)\n",
        "    disp.plot(cmap=plt.cm.Blues)\n",
        "    plt.title(f\"Confusion Matrix at {t} Timesteps\")\n",
        "    plt.grid(False)\n",
        "    plt.savefig(f\"confusion_matrices/conf_matrix_{t}_timesteps.png\")\n",
        "    plt.close()\n",
        "\n",
        "    if t == timesteps_list[-1]:\n",
        "        final_conf_matrix = cm\n",
        "\n",
        "    del model, env_train, env_test\n",
        "    gc.collect()\n",
        "\n",
        "# Plotting results\n",
        "plt.figure(figsize=(12, 8))\n",
        "\n",
        "plt.subplot(2, 2, 1)\n",
        "plt.plot(timesteps_list, accuracies, marker='o', label=\"Accuracy\")\n",
        "plt.plot(timesteps_list, f1_scores, marker='s', label=\"F1-score\")\n",
        "plt.xlabel(\"Timesteps\")\n",
        "plt.ylabel(\"Score\")\n",
        "plt.title(\"Accuracy & F1-score vs Timesteps\")\n",
        "plt.legend()\n",
        "plt.grid(True)\n",
        "\n",
        "plt.subplot(2, 2, 2)\n",
        "plt.plot(timesteps_list, precisions, marker='o', label=\"Precision\")\n",
        "plt.plot(timesteps_list, recalls, marker='s', label=\"Recall\")\n",
        "plt.xlabel(\"Timesteps\")\n",
        "plt.ylabel(\"Score\")\n",
        "plt.title(\"Precision & Recall vs Timesteps\")\n",
        "plt.legend()\n",
        "plt.grid(True)\n",
        "\n",
        "plt.subplot(2, 2, 3)\n",
        "plt.plot(timesteps_list, train_times, marker='o')\n",
        "plt.xlabel(\"Timesteps\")\n",
        "plt.ylabel(\"Time (s)\")\n",
        "plt.title(\"Training Time vs Timesteps\")\n",
        "plt.grid(True)\n",
        "\n",
        "plt.subplot(2, 2, 4)\n",
        "plt.plot(timesteps_list, memory_usages, marker='o')\n",
        "plt.xlabel(\"Timesteps\")\n",
        "plt.ylabel(\"Memory (MB)\")\n",
        "plt.title(\"Memory Usage vs Timesteps\")\n",
        "plt.grid(True)\n",
        "\n",
        "plt.tight_layout()\n",
        "plt.show()\n",
        "\n",
        "# Show the last confusion matrix again\n",
        "if final_conf_matrix is not None:\n",
        "    disp = ConfusionMatrixDisplay(confusion_matrix=final_conf_matrix)\n",
        "    disp.plot(cmap=plt.cm.Blues)\n",
        "    plt.title(f\"Final Confusion Matrix at {timesteps_list[-1]} Timesteps\")\n",
        "    plt.grid(False)\n",
        "    plt.show()\n"
      ]
    },
    {
      "cell_type": "markdown",
      "metadata": {
        "id": "PwWeydRuJxVU"
      },
      "source": [
        "#Now implementing for A2C Alogrithm"
      ]
    },
    {
      "cell_type": "code",
      "execution_count": 50,
      "metadata": {
        "colab": {
          "base_uri": "https://localhost:8080/"
        },
        "id": "3whWIA4GJusx",
        "outputId": "b818f211-2aae-4768-c4ff-c0f926629677"
      },
      "outputs": [
        {
          "name": "stdout",
          "output_type": "stream",
          "text": [
            "\n",
            "Training for 1000 timesteps...\n"
          ]
        },
        {
          "name": "stderr",
          "output_type": "stream",
          "text": [
            "/Users/mayankkapadia/anaconda3/envs/testenv/lib/python3.10/site-packages/stable_baselines3/common/vec_env/patch_gym.py:49: UserWarning: You provided an OpenAI Gym environment. We strongly recommend transitioning to Gymnasium environments. Stable-Baselines3 is automatically wrapping your environments in a compatibility layer, which could potentially cause issues.\n",
            "  warnings.warn(\n"
          ]
        },
        {
          "name": "stdout",
          "output_type": "stream",
          "text": [
            "Timesteps: 1000 | Accuracy: 0.7167 | Precision: 0.8162 | Recall: 0.8174 | F1: 0.8168 | Time: 1.82s | Memory: 226.38 MB\n",
            "\n",
            "Training for 5000 timesteps...\n"
          ]
        },
        {
          "name": "stderr",
          "output_type": "stream",
          "text": [
            "/Users/mayankkapadia/anaconda3/envs/testenv/lib/python3.10/site-packages/stable_baselines3/common/vec_env/patch_gym.py:49: UserWarning: You provided an OpenAI Gym environment. We strongly recommend transitioning to Gymnasium environments. Stable-Baselines3 is automatically wrapping your environments in a compatibility layer, which could potentially cause issues.\n",
            "  warnings.warn(\n"
          ]
        },
        {
          "name": "stdout",
          "output_type": "stream",
          "text": [
            "Timesteps: 5000 | Accuracy: 0.7530 | Precision: 0.8203 | Recall: 0.8713 | F1: 0.8450 | Time: 4.14s | Memory: 121.28 MB\n",
            "\n",
            "Training for 10000 timesteps...\n"
          ]
        },
        {
          "name": "stderr",
          "output_type": "stream",
          "text": [
            "/Users/mayankkapadia/anaconda3/envs/testenv/lib/python3.10/site-packages/stable_baselines3/common/vec_env/patch_gym.py:49: UserWarning: You provided an OpenAI Gym environment. We strongly recommend transitioning to Gymnasium environments. Stable-Baselines3 is automatically wrapping your environments in a compatibility layer, which could potentially cause issues.\n",
            "  warnings.warn(\n"
          ]
        },
        {
          "name": "stdout",
          "output_type": "stream",
          "text": [
            "Timesteps: 10000 | Accuracy: 0.8046 | Precision: 0.8298 | Recall: 0.9400 | F1: 0.8814 | Time: 6.68s | Memory: 883.00 MB\n",
            "\n",
            "Training for 15000 timesteps...\n"
          ]
        },
        {
          "name": "stderr",
          "output_type": "stream",
          "text": [
            "/Users/mayankkapadia/anaconda3/envs/testenv/lib/python3.10/site-packages/stable_baselines3/common/vec_env/patch_gym.py:49: UserWarning: You provided an OpenAI Gym environment. We strongly recommend transitioning to Gymnasium environments. Stable-Baselines3 is automatically wrapping your environments in a compatibility layer, which could potentially cause issues.\n",
            "  warnings.warn(\n"
          ]
        },
        {
          "name": "stdout",
          "output_type": "stream",
          "text": [
            "Timesteps: 15000 | Accuracy: 0.8485 | Precision: 0.8450 | Recall: 0.9845 | F1: 0.9094 | Time: 9.52s | Memory: 402.39 MB\n",
            "\n",
            "Training for 50000 timesteps...\n"
          ]
        },
        {
          "name": "stderr",
          "output_type": "stream",
          "text": [
            "/Users/mayankkapadia/anaconda3/envs/testenv/lib/python3.10/site-packages/stable_baselines3/common/vec_env/patch_gym.py:49: UserWarning: You provided an OpenAI Gym environment. We strongly recommend transitioning to Gymnasium environments. Stable-Baselines3 is automatically wrapping your environments in a compatibility layer, which could potentially cause issues.\n",
            "  warnings.warn(\n"
          ]
        },
        {
          "name": "stdout",
          "output_type": "stream",
          "text": [
            "Timesteps: 50000 | Accuracy: 0.8681 | Precision: 0.8573 | Recall: 0.9950 | F1: 0.9210 | Time: 29.77s | Memory: -600.25 MB\n",
            "\n",
            "Training for 100000 timesteps...\n"
          ]
        },
        {
          "name": "stderr",
          "output_type": "stream",
          "text": [
            "/Users/mayankkapadia/anaconda3/envs/testenv/lib/python3.10/site-packages/stable_baselines3/common/vec_env/patch_gym.py:49: UserWarning: You provided an OpenAI Gym environment. We strongly recommend transitioning to Gymnasium environments. Stable-Baselines3 is automatically wrapping your environments in a compatibility layer, which could potentially cause issues.\n",
            "  warnings.warn(\n"
          ]
        },
        {
          "name": "stdout",
          "output_type": "stream",
          "text": [
            "Timesteps: 100000 | Accuracy: 0.8481 | Precision: 0.8365 | Recall: 0.9986 | F1: 0.9104 | Time: 58.09s | Memory: -402.02 MB\n"
          ]
        },
        {
          "data": {
            "image/png": "[encoded data removed]",
            "text/plain": [
              "<Figure size 864x576 with 4 Axes>"
            ]
          },
          "metadata": {
            "needs_background": "light"
          },
          "output_type": "display_data"
        }
      ],
      "source": [
        "import time\n",
        "import psutil\n",
        "import matplotlib.pyplot as plt\n",
        "import gc\n",
        "from stable_baselines3 import A2C\n",
        "from sklearn.metrics import precision_score, recall_score, f1_score\n",
        "\n",
        "timesteps_list = [1000, 5000, 10000,15000,50000,100000]\n",
        "accuracies = []\n",
        "precisions = []\n",
        "recalls = []\n",
        "f1_scores = []\n",
        "train_times = []\n",
        "memory_usages = []\n",
        "\n",
        "for t in timesteps_list:\n",
        "    print(f\"\\nTraining for {t} timesteps...\")\n",
        "\n",
        "    gc.collect()\n",
        "\n",
        "    start_time = time.time()\n",
        "    process = psutil.Process()\n",
        "    mem_before = process.memory_info().rss / (1024 ** 2)\n",
        "\n",
        "    env_train = CICIDS2017_env(X_scaled_train, y_train)\n",
        "    model = A2C('MlpPolicy', env_train, verbose=0)\n",
        "    model.learn(total_timesteps=t)\n",
        "\n",
        "    mem_after = process.memory_info().rss / (1024 ** 2)\n",
        "    memory_used = mem_after - mem_before\n",
        "    train_duration = time.time() - start_time\n",
        "\n",
        "    # Evaluation\n",
        "    env_test = CICIDS2017_env(X_scaled_test, y_test)\n",
        "    obs = env_test.reset()\n",
        "    true_labels, pred_labels = [], []\n",
        "\n",
        "    for _ in range(len(X_scaled_test)):\n",
        "        action, _ = model.predict(obs)\n",
        "        true_labels.append(env_test.y[env_test.index])\n",
        "        pred_labels.append(action)\n",
        "        obs, reward, done, _ = env_test.step(action)\n",
        "        if done:\n",
        "            break\n",
        "\n",
        "    accuracy = sum([int(p == t) for p, t in zip(pred_labels, true_labels)]) / len(true_labels)\n",
        "    precision = precision_score(true_labels, pred_labels, zero_division=0)\n",
        "    recall = recall_score(true_labels, pred_labels, zero_division=0)\n",
        "    f1 = f1_score(true_labels, pred_labels, zero_division=0)\n",
        "\n",
        "    accuracies.append(accuracy)\n",
        "    precisions.append(precision)\n",
        "    recalls.append(recall)\n",
        "    f1_scores.append(f1)\n",
        "    train_times.append(train_duration)\n",
        "    memory_usages.append(memory_used)\n",
        "\n",
        "    print(f\"Timesteps: {t} | Accuracy: {accuracy:.4f} | Precision: {precision:.4f} | Recall: {recall:.4f} | F1: {f1:.4f} | Time: {train_duration:.2f}s | Memory: {memory_used:.2f} MB\")\n",
        "\n",
        "    del model, env_train, env_test\n",
        "    gc.collect()\n",
        "\n",
        "# Plotting results\n",
        "plt.figure(figsize=(12, 8))\n",
        "\n",
        "plt.subplot(2, 2, 1)\n",
        "plt.plot(timesteps_list, accuracies, marker='o', label=\"Accuracy\")\n",
        "plt.plot(timesteps_list, f1_scores, marker='s', label=\"F1-score\")\n",
        "plt.xlabel(\"Timesteps\")\n",
        "plt.ylabel(\"Score\")\n",
        "plt.title(\"Accuracy & F1-score vs Timesteps\")\n",
        "plt.legend()\n",
        "plt.grid(True)\n",
        "\n",
        "plt.subplot(2, 2, 2)\n",
        "plt.plot(timesteps_list, precisions, marker='o', label=\"Precision\")\n",
        "plt.plot(timesteps_list, recalls, marker='s', label=\"Recall\")\n",
        "plt.xlabel(\"Timesteps\")\n",
        "plt.ylabel(\"Score\")\n",
        "plt.title(\"Precision & Recall vs Timesteps\")\n",
        "plt.legend()\n",
        "plt.grid(True)\n",
        "\n",
        "plt.subplot(2, 2, 3)\n",
        "plt.plot(timesteps_list, train_times, marker='o')\n",
        "plt.xlabel(\"Timesteps\")\n",
        "plt.ylabel(\"Time (s)\")\n",
        "plt.title(\"Training Time vs Timesteps\")\n",
        "plt.grid(True)\n",
        "\n",
        "plt.subplot(2, 2, 4)\n",
        "plt.plot(timesteps_list, memory_usages, marker='o')\n",
        "plt.xlabel(\"Timesteps\")\n",
        "plt.ylabel(\"Memory (MB)\")\n",
        "plt.title(\"Memory Usage vs Timesteps\")\n",
        "plt.grid(True)\n",
        "\n",
        "plt.tight_layout()\n",
        "plt.show()\n"
      ]
    },
    {
      "cell_type": "markdown",
      "metadata": {
        "id": "fUdYDYPURb6w"
      },
      "source": [
        "#Now Implementing for DQN\n"
      ]
    },
    {
      "cell_type": "code",
      "execution_count": 51,
      "metadata": {
        "colab": {
          "base_uri": "https://localhost:8080/"
        },
        "id": "OJnSmer4J9Jt",
        "outputId": "940c5169-39fb-4362-98ec-7d55462be9bf"
      },
      "outputs": [
        {
          "name": "stdout",
          "output_type": "stream",
          "text": [
            "\n",
            "Training for 1000 timesteps...\n"
          ]
        },
        {
          "name": "stderr",
          "output_type": "stream",
          "text": [
            "/Users/mayankkapadia/anaconda3/envs/testenv/lib/python3.10/site-packages/stable_baselines3/common/vec_env/patch_gym.py:49: UserWarning: You provided an OpenAI Gym environment. We strongly recommend transitioning to Gymnasium environments. Stable-Baselines3 is automatically wrapping your environments in a compatibility layer, which could potentially cause issues.\n",
            "  warnings.warn(\n"
          ]
        },
        {
          "name": "stdout",
          "output_type": "stream",
          "text": [
            "Timesteps: 1000 | Accuracy: 0.8256 | Precision: 0.8329 | Recall: 0.9686 | F1: 0.8956 | Time: 1.34s | Memory: 1124.95 MB\n",
            "\n",
            "Training for 5000 timesteps...\n"
          ]
        },
        {
          "name": "stderr",
          "output_type": "stream",
          "text": [
            "/Users/mayankkapadia/anaconda3/envs/testenv/lib/python3.10/site-packages/stable_baselines3/common/vec_env/patch_gym.py:49: UserWarning: You provided an OpenAI Gym environment. We strongly recommend transitioning to Gymnasium environments. Stable-Baselines3 is automatically wrapping your environments in a compatibility layer, which could potentially cause issues.\n",
            "  warnings.warn(\n"
          ]
        },
        {
          "name": "stdout",
          "output_type": "stream",
          "text": [
            "Timesteps: 5000 | Accuracy: 0.8564 | Precision: 0.8614 | Recall: 0.9702 | F1: 0.9126 | Time: 2.82s | Memory: 1285.81 MB\n",
            "\n",
            "Training for 10000 timesteps...\n"
          ]
        },
        {
          "name": "stderr",
          "output_type": "stream",
          "text": [
            "/Users/mayankkapadia/anaconda3/envs/testenv/lib/python3.10/site-packages/stable_baselines3/common/vec_env/patch_gym.py:49: UserWarning: You provided an OpenAI Gym environment. We strongly recommend transitioning to Gymnasium environments. Stable-Baselines3 is automatically wrapping your environments in a compatibility layer, which could potentially cause issues.\n",
            "  warnings.warn(\n"
          ]
        },
        {
          "name": "stdout",
          "output_type": "stream",
          "text": [
            "Timesteps: 10000 | Accuracy: 0.8861 | Precision: 0.8949 | Recall: 0.9661 | F1: 0.9291 | Time: 4.51s | Memory: 1095.83 MB\n",
            "\n",
            "Training for 15000 timesteps...\n"
          ]
        },
        {
          "name": "stderr",
          "output_type": "stream",
          "text": [
            "/Users/mayankkapadia/anaconda3/envs/testenv/lib/python3.10/site-packages/stable_baselines3/common/vec_env/patch_gym.py:49: UserWarning: You provided an OpenAI Gym environment. We strongly recommend transitioning to Gymnasium environments. Stable-Baselines3 is automatically wrapping your environments in a compatibility layer, which could potentially cause issues.\n",
            "  warnings.warn(\n"
          ]
        },
        {
          "name": "stdout",
          "output_type": "stream",
          "text": [
            "Timesteps: 15000 | Accuracy: 0.9155 | Precision: 0.9347 | Recall: 0.9574 | F1: 0.9460 | Time: 6.42s | Memory: 1038.34 MB\n",
            "\n",
            "Training for 50000 timesteps...\n"
          ]
        },
        {
          "name": "stderr",
          "output_type": "stream",
          "text": [
            "/Users/mayankkapadia/anaconda3/envs/testenv/lib/python3.10/site-packages/stable_baselines3/common/vec_env/patch_gym.py:49: UserWarning: You provided an OpenAI Gym environment. We strongly recommend transitioning to Gymnasium environments. Stable-Baselines3 is automatically wrapping your environments in a compatibility layer, which could potentially cause issues.\n",
            "  warnings.warn(\n"
          ]
        },
        {
          "name": "stdout",
          "output_type": "stream",
          "text": [
            "Timesteps: 50000 | Accuracy: 0.9391 | Precision: 0.9623 | Recall: 0.9588 | F1: 0.9605 | Time: 19.87s | Memory: 396.44 MB\n",
            "\n",
            "Training for 100000 timesteps...\n"
          ]
        },
        {
          "name": "stderr",
          "output_type": "stream",
          "text": [
            "/Users/mayankkapadia/anaconda3/envs/testenv/lib/python3.10/site-packages/stable_baselines3/common/vec_env/patch_gym.py:49: UserWarning: You provided an OpenAI Gym environment. We strongly recommend transitioning to Gymnasium environments. Stable-Baselines3 is automatically wrapping your environments in a compatibility layer, which could potentially cause issues.\n",
            "  warnings.warn(\n"
          ]
        },
        {
          "name": "stdout",
          "output_type": "stream",
          "text": [
            "Timesteps: 100000 | Accuracy: 0.9436 | Precision: 0.9668 | Recall: 0.9600 | F1: 0.9634 | Time: 38.97s | Memory: -532.86 MB\n"
          ]
        },
        {
          "data": {
            "image/png": "[encoded data removed]",
            "text/plain": [
              "<Figure size 864x576 with 4 Axes>"
            ]
          },
          "metadata": {
            "needs_background": "light"
          },
          "output_type": "display_data"
        }
      ],
      "source": [
        "import time\n",
        "import psutil\n",
        "import matplotlib.pyplot as plt\n",
        "import gc\n",
        "from stable_baselines3 import DQN\n",
        "from sklearn.metrics import precision_score, recall_score, f1_score\n",
        "\n",
        "timesteps_list = [1000, 5000, 10000,15000,50000,100000]\n",
        "accuracies = []\n",
        "precisions = []\n",
        "recalls = []\n",
        "f1_scores = []\n",
        "train_times = []\n",
        "memory_usages = []\n",
        "\n",
        "for t in timesteps_list:\n",
        "    print(f\"\\nTraining for {t} timesteps...\")\n",
        "\n",
        "    gc.collect()\n",
        "\n",
        "    start_time = time.time()\n",
        "    process = psutil.Process()\n",
        "    mem_before = process.memory_info().rss / (1024 ** 2)\n",
        "\n",
        "    env_train = CICIDS2017_env(X_scaled_train, y_train)\n",
        "    model = DQN('MlpPolicy', env_train, verbose=0)\n",
        "    model.learn(total_timesteps=t)\n",
        "\n",
        "    mem_after = process.memory_info().rss / (1024 ** 2)\n",
        "    memory_used = mem_after - mem_before\n",
        "    train_duration = time.time() - start_time\n",
        "\n",
        "    # Evaluation\n",
        "    env_test = CICIDS2017_env(X_scaled_test, y_test)\n",
        "    obs = env_test.reset()\n",
        "    true_labels, pred_labels = [], []\n",
        "\n",
        "    for _ in range(len(X_scaled_test)):\n",
        "        action, _ = model.predict(obs)\n",
        "        true_labels.append(env_test.y[env_test.index])\n",
        "        pred_labels.append(action)\n",
        "        obs, reward, done, _ = env_test.step(action)\n",
        "        if done:\n",
        "            break\n",
        "\n",
        "    accuracy = sum([int(p == t) for p, t in zip(pred_labels, true_labels)]) / len(true_labels)\n",
        "    precision = precision_score(true_labels, pred_labels, zero_division=0)\n",
        "    recall = recall_score(true_labels, pred_labels, zero_division=0)\n",
        "    f1 = f1_score(true_labels, pred_labels, zero_division=0)\n",
        "\n",
        "    accuracies.append(accuracy)\n",
        "    precisions.append(precision)\n",
        "    recalls.append(recall)\n",
        "    f1_scores.append(f1)\n",
        "    train_times.append(train_duration)\n",
        "    memory_usages.append(memory_used)\n",
        "\n",
        "    print(f\"Timesteps: {t} | Accuracy: {accuracy:.4f} | Precision: {precision:.4f} | Recall: {recall:.4f} | F1: {f1:.4f} | Time: {train_duration:.2f}s | Memory: {memory_used:.2f} MB\")\n",
        "\n",
        "    del model, env_train, env_test\n",
        "    gc.collect()\n",
        "\n",
        "# Plotting results\n",
        "plt.figure(figsize=(12, 8))\n",
        "\n",
        "plt.subplot(2, 2, 1)\n",
        "plt.plot(timesteps_list, accuracies, marker='o', label=\"Accuracy\")\n",
        "plt.plot(timesteps_list, f1_scores, marker='s', label=\"F1-score\")\n",
        "plt.xlabel(\"Timesteps\")\n",
        "plt.ylabel(\"Score\")\n",
        "plt.title(\"Accuracy & F1-score vs Timesteps\")\n",
        "plt.legend()\n",
        "plt.grid(True)\n",
        "\n",
        "plt.subplot(2, 2, 2)\n",
        "plt.plot(timesteps_list, precisions, marker='o', label=\"Precision\")\n",
        "plt.plot(timesteps_list, recalls, marker='s', label=\"Recall\")\n",
        "plt.xlabel(\"Timesteps\")\n",
        "plt.ylabel(\"Score\")\n",
        "plt.title(\"Precision & Recall vs Timesteps\")\n",
        "plt.legend()\n",
        "plt.grid(True)\n",
        "\n",
        "plt.subplot(2, 2, 3)\n",
        "plt.plot(timesteps_list, train_times, marker='o')\n",
        "plt.xlabel(\"Timesteps\")\n",
        "plt.ylabel(\"Time (s)\")\n",
        "plt.title(\"Training Time vs Timesteps\")\n",
        "plt.grid(True)\n",
        "\n",
        "plt.subplot(2, 2, 4)\n",
        "plt.plot(timesteps_list, memory_usages, marker='o')\n",
        "plt.xlabel(\"Timesteps\")\n",
        "plt.ylabel(\"Memory (MB)\")\n",
        "plt.title(\"Memory Usage vs Timesteps\")\n",
        "plt.grid(True)\n",
        "\n",
        "plt.tight_layout()\n",
        "plt.show()\n"
      ]
    },
    {
      "cell_type": "code",
      "execution_count": null,
      "metadata": {
        "id": "afBXeTkGRonx"
      },
      "outputs": [],
      "source": []
    }
  ],
  "metadata": {
    "colab": {
      "provenance": []
    },
    "kernelspec": {
      "display_name": "testenv",
      "language": "python",
      "name": "python3"
    },
    "language_info": {
      "codemirror_mode": {
        "name": "ipython",
        "version": 3
      },
      "file_extension": ".py",
      "mimetype": "text/x-python",
      "name": "python",
      "nbconvert_exporter": "python",
      "pygments_lexer": "ipython3",
      "version": "3.10.9"
    }
  },
  "nbformat": 4,
  "nbformat_minor": 0
}
